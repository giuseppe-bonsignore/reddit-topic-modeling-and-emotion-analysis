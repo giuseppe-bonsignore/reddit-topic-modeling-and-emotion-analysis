{
 "cells": [
  {
   "cell_type": "code",
   "execution_count": 1,
   "metadata": {},
   "outputs": [],
   "source": [
    "import pandas as pd \n",
    "import re  \n",
    "import praw"
   ]
  },
  {
   "cell_type": "code",
   "execution_count": null,
   "metadata": {},
   "outputs": [],
   "source": [
    "# Connect to Reddit via API\n",
    "\n",
    "reddit = praw.Reddit( \n",
    "\n",
    "    client_id = \"your_client_id\",\n",
    "    client_secret = \"your_key\",\n",
    "    user_agent = \"your_username\"\n",
    ")"
   ]
  },
  {
   "cell_type": "code",
   "execution_count": null,
   "metadata": {},
   "outputs": [],
   "source": [
    "# Call this function to remove URLs\n",
    "def clean(text): \n",
    "    text = re.sub(\"http\\S+|www\\S+|https\\S+\", \"\", text)\n",
    "    return text"
   ]
  },
  {
   "cell_type": "code",
   "execution_count": null,
   "metadata": {},
   "outputs": [],
   "source": [
    "# Fetch top 10 comments from a subreddit's hottest posts \n",
    "def collect_reddit_data(subreddit=str, post_num=int):\n",
    "    data = [] \n",
    "    \n",
    "    for submission in reddit.subreddit(subreddit).hot(limit=post_num):\n",
    "\n",
    "        if 'string_to_filter_out' in submission.title.lower(): # Filter out unwanted threads\n",
    "            continue\n",
    "    \n",
    "        post_title = clean(submission.title) \n",
    "\n",
    "        submission.comments.replace_more(limit=0) # Fetch data from the entire comment forest \n",
    "        top_comments = sorted(submission.comments.list(), key=lambda x: x.score, reverse=True)[:10]\n",
    "\n",
    "        for comment in top_comments: # Remove deleted comments and bots \n",
    "            if \"bot\" in comment.body or comment.body in [\"[deleted]\", \"[removed]\"]: \n",
    "                continue\n",
    "            comment_text = clean(comment.body) \n",
    "            upvotes = comment.score \n",
    "            \n",
    "            \n",
    "            data.append({ # Store the data\n",
    "                'post_title': post_title,\n",
    "                'comment_text': comment_text,\n",
    "                'upvotes': upvotes\n",
    "            })\n",
    "    \n",
    "    return pd.DataFrame(data) # Return the results in a data frame\n",
    "\n",
    "df = collect_reddit_data('sample_subreddit', 1000) # Call the function with the subreddit name and the limit number of post \n",
    "\n",
    "df.to_csv('/your_path/your_dataset.csv', index=True) # Optional: store the results in a CSV file\n",
    "print(df.head()) # Inspect the dataset \n",
    "\n"
   ]
  }
 ],
 "metadata": {
  "kernelspec": {
   "display_name": "sa",
   "language": "python",
   "name": "python3"
  },
  "language_info": {
   "codemirror_mode": {
    "name": "ipython",
    "version": 3
   },
   "file_extension": ".py",
   "mimetype": "text/x-python",
   "name": "python",
   "nbconvert_exporter": "python",
   "pygments_lexer": "ipython3",
   "version": "3.13.1"
  }
 },
 "nbformat": 4,
 "nbformat_minor": 2
}
